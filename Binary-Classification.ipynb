{
 "cells": [
  {
   "cell_type": "markdown",
   "id": "ae3617a8",
   "metadata": {},
   "source": [
    "# Start"
   ]
  },
  {
   "cell_type": "code",
   "execution_count": 1,
   "id": "d9fbc9e8",
   "metadata": {},
   "outputs": [],
   "source": [
    "import pandas as pd\n",
    "xls = pd.ExcelFile('Judgment2.xlsx')\n",
    "df_screen = pd.read_excel(xls, 'Screen')\n",
    "df_a = pd.read_excel(xls, 'a')\n",
    "df_b = pd.read_excel(xls, 'b')\n",
    "df_c = pd.read_excel(xls, 'c')"
   ]
  },
  {
   "cell_type": "code",
   "execution_count": 2,
   "id": "4908e3c2",
   "metadata": {},
   "outputs": [],
   "source": [
    "df_screen = df_screen.dropna()"
   ]
  },
  {
   "cell_type": "code",
   "execution_count": 3,
   "id": "29c57754",
   "metadata": {},
   "outputs": [],
   "source": [
    "df_screen['fldSResponse'] = df_screen['fldSResponse'].apply(lambda s: s.lower())"
   ]
  },
  {
   "cell_type": "code",
   "execution_count": 4,
   "id": "f90ade4e",
   "metadata": {},
   "outputs": [
    {
     "data": {
      "text/html": [
       "<div>\n",
       "<style scoped>\n",
       "    .dataframe tbody tr th:only-of-type {\n",
       "        vertical-align: middle;\n",
       "    }\n",
       "\n",
       "    .dataframe tbody tr th {\n",
       "        vertical-align: top;\n",
       "    }\n",
       "\n",
       "    .dataframe thead th {\n",
       "        text-align: right;\n",
       "    }\n",
       "</style>\n",
       "<table border=\"1\" class=\"dataframe\">\n",
       "  <thead>\n",
       "    <tr style=\"text-align: right;\">\n",
       "      <th></th>\n",
       "      <th>fldSResponse</th>\n",
       "      <th>fldSIsPassed</th>\n",
       "    </tr>\n",
       "  </thead>\n",
       "  <tbody>\n",
       "    <tr>\n",
       "      <th>0</th>\n",
       "      <td>call mom and tell her she is stranded and send...</td>\n",
       "      <td>1.0</td>\n",
       "    </tr>\n",
       "    <tr>\n",
       "      <th>1</th>\n",
       "      <td>buy a ticket home</td>\n",
       "      <td>0.0</td>\n",
       "    </tr>\n",
       "    <tr>\n",
       "      <th>2</th>\n",
       "      <td>find a cash machine</td>\n",
       "      <td>0.0</td>\n",
       "    </tr>\n",
       "    <tr>\n",
       "      <th>3</th>\n",
       "      <td>make a phone call</td>\n",
       "      <td>1.0</td>\n",
       "    </tr>\n",
       "    <tr>\n",
       "      <th>4</th>\n",
       "      <td>call someone, her husband.</td>\n",
       "      <td>1.0</td>\n",
       "    </tr>\n",
       "    <tr>\n",
       "      <th>...</th>\n",
       "      <td>...</td>\n",
       "      <td>...</td>\n",
       "    </tr>\n",
       "    <tr>\n",
       "      <th>821</th>\n",
       "      <td>try to find something to eat</td>\n",
       "      <td>0.0</td>\n",
       "    </tr>\n",
       "    <tr>\n",
       "      <th>822</th>\n",
       "      <td>try to find someone who had more money</td>\n",
       "      <td>0.0</td>\n",
       "    </tr>\n",
       "    <tr>\n",
       "      <th>823</th>\n",
       "      <td>make a phone call (p) see if i knew someone in...</td>\n",
       "      <td>0.0</td>\n",
       "    </tr>\n",
       "    <tr>\n",
       "      <th>824</th>\n",
       "      <td>call someone for help (p) tell them i was stra...</td>\n",
       "      <td>0.0</td>\n",
       "    </tr>\n",
       "    <tr>\n",
       "      <th>825</th>\n",
       "      <td>call someone (p) have them rescue me</td>\n",
       "      <td>0.0</td>\n",
       "    </tr>\n",
       "  </tbody>\n",
       "</table>\n",
       "<p>826 rows × 2 columns</p>\n",
       "</div>"
      ],
      "text/plain": [
       "                                          fldSResponse  fldSIsPassed\n",
       "0    call mom and tell her she is stranded and send...           1.0\n",
       "1                                    buy a ticket home           0.0\n",
       "2                                  find a cash machine           0.0\n",
       "3                                    make a phone call           1.0\n",
       "4                           call someone, her husband.           1.0\n",
       "..                                                 ...           ...\n",
       "821                       try to find something to eat           0.0\n",
       "822             try to find someone who had more money           0.0\n",
       "823  make a phone call (p) see if i knew someone in...           0.0\n",
       "824  call someone for help (p) tell them i was stra...           0.0\n",
       "825               call someone (p) have them rescue me           0.0\n",
       "\n",
       "[826 rows x 2 columns]"
      ]
     },
     "execution_count": 4,
     "metadata": {},
     "output_type": "execute_result"
    }
   ],
   "source": [
    "df_screen"
   ]
  },
  {
   "cell_type": "code",
   "execution_count": 5,
   "id": "8c98511b",
   "metadata": {},
   "outputs": [
    {
     "name": "stderr",
     "output_type": "stream",
     "text": [
      "/var/folders/nh/bqvjwbm11q39ckgjc3_j5_h80000gn/T/ipykernel_46052/1102155550.py:1: FutureWarning: The default value of regex will change from True to False in a future version.\n",
      "  df_screen[\"fldSResponse\"] = df_screen[\"fldSResponse\"].str.replace(\"\\(p\\)\", \",\")\n",
      "/var/folders/nh/bqvjwbm11q39ckgjc3_j5_h80000gn/T/ipykernel_46052/1102155550.py:2: FutureWarning: The default value of regex will change from True to False in a future version.\n",
      "  df_screen[\"fldSResponse\"] = df_screen[\"fldSResponse\"].str.replace(\"\\(q\\)\", \",\")\n",
      "/var/folders/nh/bqvjwbm11q39ckgjc3_j5_h80000gn/T/ipykernel_46052/1102155550.py:5: FutureWarning: The default value of regex will change from True to False in a future version.\n",
      "  df_screen[\"fldSResponse\"] = df_screen[\"fldSResponse\"].str.replace(\"\\(\\)\", \",\")\n"
     ]
    }
   ],
   "source": [
    "df_screen[\"fldSResponse\"] = df_screen[\"fldSResponse\"].str.replace(\"\\(p\\)\", \",\")\n",
    "df_screen[\"fldSResponse\"] = df_screen[\"fldSResponse\"].str.replace(\"\\(q\\)\", \",\")\n",
    "df_screen[\"fldSResponse\"] = df_screen[\"fldSResponse\"].str.replace(\" q \", \",\")\n",
    "df_screen[\"fldSResponse\"] = df_screen[\"fldSResponse\"].str.replace(\" p \", \",\")\n",
    "df_screen[\"fldSResponse\"] = df_screen[\"fldSResponse\"].str.replace(\"\\(\\)\", \",\")"
   ]
  },
  {
   "cell_type": "code",
   "execution_count": 6,
   "id": "bc44b3f3",
   "metadata": {},
   "outputs": [
    {
     "data": {
      "text/html": [
       "<div>\n",
       "<style scoped>\n",
       "    .dataframe tbody tr th:only-of-type {\n",
       "        vertical-align: middle;\n",
       "    }\n",
       "\n",
       "    .dataframe tbody tr th {\n",
       "        vertical-align: top;\n",
       "    }\n",
       "\n",
       "    .dataframe thead th {\n",
       "        text-align: right;\n",
       "    }\n",
       "</style>\n",
       "<table border=\"1\" class=\"dataframe\">\n",
       "  <thead>\n",
       "    <tr style=\"text-align: right;\">\n",
       "      <th></th>\n",
       "      <th>fldSResponse</th>\n",
       "      <th>fldSIsPassed</th>\n",
       "    </tr>\n",
       "  </thead>\n",
       "  <tbody>\n",
       "    <tr>\n",
       "      <th>0</th>\n",
       "      <td>call mom and tell her she is stranded and send...</td>\n",
       "      <td>1.0</td>\n",
       "    </tr>\n",
       "    <tr>\n",
       "      <th>1</th>\n",
       "      <td>buy a ticket home</td>\n",
       "      <td>0.0</td>\n",
       "    </tr>\n",
       "    <tr>\n",
       "      <th>2</th>\n",
       "      <td>find a cash machine</td>\n",
       "      <td>0.0</td>\n",
       "    </tr>\n",
       "    <tr>\n",
       "      <th>3</th>\n",
       "      <td>make a phone call</td>\n",
       "      <td>1.0</td>\n",
       "    </tr>\n",
       "    <tr>\n",
       "      <th>4</th>\n",
       "      <td>call someone, her husband.</td>\n",
       "      <td>1.0</td>\n",
       "    </tr>\n",
       "    <tr>\n",
       "      <th>...</th>\n",
       "      <td>...</td>\n",
       "      <td>...</td>\n",
       "    </tr>\n",
       "    <tr>\n",
       "      <th>821</th>\n",
       "      <td>try to find something to eat</td>\n",
       "      <td>0.0</td>\n",
       "    </tr>\n",
       "    <tr>\n",
       "      <th>822</th>\n",
       "      <td>try to find someone who had more money</td>\n",
       "      <td>0.0</td>\n",
       "    </tr>\n",
       "    <tr>\n",
       "      <th>823</th>\n",
       "      <td>make a phone call , see if i knew someone in t...</td>\n",
       "      <td>0.0</td>\n",
       "    </tr>\n",
       "    <tr>\n",
       "      <th>824</th>\n",
       "      <td>call someone for help , tell them i was strand...</td>\n",
       "      <td>0.0</td>\n",
       "    </tr>\n",
       "    <tr>\n",
       "      <th>825</th>\n",
       "      <td>call someone , have them rescue me</td>\n",
       "      <td>0.0</td>\n",
       "    </tr>\n",
       "  </tbody>\n",
       "</table>\n",
       "<p>826 rows × 2 columns</p>\n",
       "</div>"
      ],
      "text/plain": [
       "                                          fldSResponse  fldSIsPassed\n",
       "0    call mom and tell her she is stranded and send...           1.0\n",
       "1                                    buy a ticket home           0.0\n",
       "2                                  find a cash machine           0.0\n",
       "3                                    make a phone call           1.0\n",
       "4                           call someone, her husband.           1.0\n",
       "..                                                 ...           ...\n",
       "821                       try to find something to eat           0.0\n",
       "822             try to find someone who had more money           0.0\n",
       "823  make a phone call , see if i knew someone in t...           0.0\n",
       "824  call someone for help , tell them i was strand...           0.0\n",
       "825                 call someone , have them rescue me           0.0\n",
       "\n",
       "[826 rows x 2 columns]"
      ]
     },
     "execution_count": 6,
     "metadata": {},
     "output_type": "execute_result"
    }
   ],
   "source": [
    "df_screen"
   ]
  },
  {
   "cell_type": "code",
   "execution_count": 7,
   "id": "9a716a3c",
   "metadata": {},
   "outputs": [
    {
     "name": "stderr",
     "output_type": "stream",
     "text": [
      "/home/parastoo/miniconda3/envs/myenv/lib/python3.9/site-packages/scipy/__init__.py:138: UserWarning: A NumPy version >=1.16.5 and <1.23.0 is required for this version of SciPy (detected version 1.24.2)\n",
      "  warnings.warn(f\"A NumPy version >={np_minversion} and <{np_maxversion} is required for this version of \"\n"
     ]
    }
   ],
   "source": [
    "from sklearn.model_selection import train_test_split\n",
    "X_train, X_test, y_train, y_test = train_test_split(df_screen[\"fldSResponse\"], df_screen[\"fldSIsPassed\"], test_size = 0.05)"
   ]
  },
  {
   "cell_type": "code",
   "execution_count": 8,
   "id": "e177956e",
   "metadata": {},
   "outputs": [
    {
     "data": {
      "text/plain": [
       "42                               i would call the police\n",
       "262                                           cry -,- dk\n",
       "92     go to travelers aid. i would make a telephone ...\n",
       "355                          call somebody , come get me\n",
       "157                                        hitch a ride.\n",
       "                             ...                        \n",
       "391    say \"help! help!\" stand in the middle of the a...\n",
       "160                                       start walking.\n",
       "473    go and ask for a glass of water , get some cra...\n",
       "185    go to the main desk... tell them what happened...\n",
       "272    look in phone book to find someone i know,try ...\n",
       "Name: fldSResponse, Length: 784, dtype: object"
      ]
     },
     "execution_count": 8,
     "metadata": {},
     "output_type": "execute_result"
    }
   ],
   "source": [
    "X_train"
   ]
  },
  {
   "cell_type": "code",
   "execution_count": 9,
   "id": "3eb0d77a",
   "metadata": {},
   "outputs": [],
   "source": [
    "X_test = pd.DataFrame(X_test)\n",
    "y_test = pd.DataFrame(y_test)\n",
    "\n",
    "X_train = pd.DataFrame(X_train)\n",
    "y_train = pd.DataFrame(y_train)"
   ]
  },
  {
   "cell_type": "code",
   "execution_count": 10,
   "id": "41fba53f",
   "metadata": {},
   "outputs": [
    {
     "data": {
      "text/html": [
       "<div>\n",
       "<style scoped>\n",
       "    .dataframe tbody tr th:only-of-type {\n",
       "        vertical-align: middle;\n",
       "    }\n",
       "\n",
       "    .dataframe tbody tr th {\n",
       "        vertical-align: top;\n",
       "    }\n",
       "\n",
       "    .dataframe thead th {\n",
       "        text-align: right;\n",
       "    }\n",
       "</style>\n",
       "<table border=\"1\" class=\"dataframe\">\n",
       "  <thead>\n",
       "    <tr style=\"text-align: right;\">\n",
       "      <th></th>\n",
       "      <th>fldSResponse</th>\n",
       "    </tr>\n",
       "  </thead>\n",
       "  <tbody>\n",
       "    <tr>\n",
       "      <th>42</th>\n",
       "      <td>i would call the police</td>\n",
       "    </tr>\n",
       "    <tr>\n",
       "      <th>262</th>\n",
       "      <td>cry -,- dk</td>\n",
       "    </tr>\n",
       "    <tr>\n",
       "      <th>92</th>\n",
       "      <td>go to travelers aid. i would make a telephone ...</td>\n",
       "    </tr>\n",
       "    <tr>\n",
       "      <th>355</th>\n",
       "      <td>call somebody , come get me</td>\n",
       "    </tr>\n",
       "    <tr>\n",
       "      <th>157</th>\n",
       "      <td>hitch a ride.</td>\n",
       "    </tr>\n",
       "    <tr>\n",
       "      <th>...</th>\n",
       "      <td>...</td>\n",
       "    </tr>\n",
       "    <tr>\n",
       "      <th>391</th>\n",
       "      <td>say \"help! help!\" stand in the middle of the a...</td>\n",
       "    </tr>\n",
       "    <tr>\n",
       "      <th>160</th>\n",
       "      <td>start walking.</td>\n",
       "    </tr>\n",
       "    <tr>\n",
       "      <th>473</th>\n",
       "      <td>go and ask for a glass of water , get some cra...</td>\n",
       "    </tr>\n",
       "    <tr>\n",
       "      <th>185</th>\n",
       "      <td>go to the main desk... tell them what happened...</td>\n",
       "    </tr>\n",
       "    <tr>\n",
       "      <th>272</th>\n",
       "      <td>look in phone book to find someone i know,try ...</td>\n",
       "    </tr>\n",
       "  </tbody>\n",
       "</table>\n",
       "<p>784 rows × 1 columns</p>\n",
       "</div>"
      ],
      "text/plain": [
       "                                          fldSResponse\n",
       "42                             i would call the police\n",
       "262                                         cry -,- dk\n",
       "92   go to travelers aid. i would make a telephone ...\n",
       "355                        call somebody , come get me\n",
       "157                                      hitch a ride.\n",
       "..                                                 ...\n",
       "391  say \"help! help!\" stand in the middle of the a...\n",
       "160                                     start walking.\n",
       "473  go and ask for a glass of water , get some cra...\n",
       "185  go to the main desk... tell them what happened...\n",
       "272  look in phone book to find someone i know,try ...\n",
       "\n",
       "[784 rows x 1 columns]"
      ]
     },
     "execution_count": 10,
     "metadata": {},
     "output_type": "execute_result"
    }
   ],
   "source": [
    "X_train"
   ]
  },
  {
   "cell_type": "code",
   "execution_count": 11,
   "id": "e5b0887a",
   "metadata": {},
   "outputs": [
    {
     "data": {
      "text/html": [
       "<div>\n",
       "<style scoped>\n",
       "    .dataframe tbody tr th:only-of-type {\n",
       "        vertical-align: middle;\n",
       "    }\n",
       "\n",
       "    .dataframe tbody tr th {\n",
       "        vertical-align: top;\n",
       "    }\n",
       "\n",
       "    .dataframe thead th {\n",
       "        text-align: right;\n",
       "    }\n",
       "</style>\n",
       "<table border=\"1\" class=\"dataframe\">\n",
       "  <thead>\n",
       "    <tr style=\"text-align: right;\">\n",
       "      <th></th>\n",
       "      <th>fldSIsPassed</th>\n",
       "    </tr>\n",
       "  </thead>\n",
       "  <tbody>\n",
       "    <tr>\n",
       "      <th>42</th>\n",
       "      <td>1.0</td>\n",
       "    </tr>\n",
       "    <tr>\n",
       "      <th>262</th>\n",
       "      <td>0.0</td>\n",
       "    </tr>\n",
       "    <tr>\n",
       "      <th>92</th>\n",
       "      <td>1.0</td>\n",
       "    </tr>\n",
       "    <tr>\n",
       "      <th>355</th>\n",
       "      <td>0.0</td>\n",
       "    </tr>\n",
       "    <tr>\n",
       "      <th>157</th>\n",
       "      <td>0.0</td>\n",
       "    </tr>\n",
       "    <tr>\n",
       "      <th>...</th>\n",
       "      <td>...</td>\n",
       "    </tr>\n",
       "    <tr>\n",
       "      <th>391</th>\n",
       "      <td>0.0</td>\n",
       "    </tr>\n",
       "    <tr>\n",
       "      <th>160</th>\n",
       "      <td>0.0</td>\n",
       "    </tr>\n",
       "    <tr>\n",
       "      <th>473</th>\n",
       "      <td>0.0</td>\n",
       "    </tr>\n",
       "    <tr>\n",
       "      <th>185</th>\n",
       "      <td>0.0</td>\n",
       "    </tr>\n",
       "    <tr>\n",
       "      <th>272</th>\n",
       "      <td>0.0</td>\n",
       "    </tr>\n",
       "  </tbody>\n",
       "</table>\n",
       "<p>784 rows × 1 columns</p>\n",
       "</div>"
      ],
      "text/plain": [
       "     fldSIsPassed\n",
       "42            1.0\n",
       "262           0.0\n",
       "92            1.0\n",
       "355           0.0\n",
       "157           0.0\n",
       "..            ...\n",
       "391           0.0\n",
       "160           0.0\n",
       "473           0.0\n",
       "185           0.0\n",
       "272           0.0\n",
       "\n",
       "[784 rows x 1 columns]"
      ]
     },
     "execution_count": 11,
     "metadata": {},
     "output_type": "execute_result"
    }
   ],
   "source": [
    "y_train"
   ]
  },
  {
   "cell_type": "code",
   "execution_count": 12,
   "id": "e1d95026",
   "metadata": {},
   "outputs": [],
   "source": [
    "#X_train_backup, X_test_backup, y_train_back_up, y_test_backup = X_train, X_test, y_train, y_test"
   ]
  },
  {
   "cell_type": "code",
   "execution_count": 13,
   "id": "359d366a",
   "metadata": {},
   "outputs": [],
   "source": [
    "#X_train, X_test, y_train, y_test = X_train_backup, X_test_backup, y_train_back_up, y_test_backup"
   ]
  },
  {
   "cell_type": "code",
   "execution_count": 14,
   "id": "ec0aeccb",
   "metadata": {},
   "outputs": [],
   "source": [
    "#from sentence_transformers import SentenceTransformer\n",
    "#bert_model = SentenceTransformer('saved_models/bert.pb')"
   ]
  },
  {
   "cell_type": "code",
   "execution_count": 15,
   "id": "0277d727",
   "metadata": {},
   "outputs": [],
   "source": [
    "import torch\n",
    "from scipy.spatial.distance import cosine\n",
    "from transformers import AutoModel, AutoTokenizer\n",
    "\n",
    "\n",
    "def embed(texts):\n",
    "    # Import our models. The package will take care of downloading the models automatically\n",
    "    tokenizer = AutoTokenizer.from_pretrained(\"princeton-nlp/sup-simcse-roberta-large\")\n",
    "    model = AutoModel.from_pretrained(\"princeton-nlp/sup-simcse-roberta-large\")\n",
    "\n",
    "    inputs = tokenizer(texts, padding=True, truncation=True, return_tensors=\"pt\")\n",
    "\n",
    "    # Get the embeddings\n",
    "    with torch.no_grad():\n",
    "        embeddings = model(**inputs, output_hidden_states=True, return_dict=True).pooler_output\n",
    "\n",
    "    return embeddings"
   ]
  },
  {
   "cell_type": "code",
   "execution_count": 16,
   "id": "22b27061",
   "metadata": {},
   "outputs": [],
   "source": [
    "#from sentence_transformers import SentenceTransformer\n",
    "#bert_model2 = SentenceTransformer('distilbert-base-uncased')"
   ]
  },
  {
   "cell_type": "code",
   "execution_count": 17,
   "id": "3006f2f3",
   "metadata": {},
   "outputs": [],
   "source": [
    "#import tensorflow_hub as hub\n",
    "\n",
    "#embed = hub.load(\"https://tfhub.dev/google/universal-sentence-encoder/4\")"
   ]
  },
  {
   "cell_type": "code",
   "execution_count": 18,
   "id": "db20733a",
   "metadata": {},
   "outputs": [],
   "source": [
    "lst_X_train = X_train['fldSResponse'].tolist()\n",
    "#X_train_embedding_tensor = bert_model.encode(lst_X_train, convert_to_tensor=True)\n",
    "X_train_embedding_tensor = embed(lst_X_train)"
   ]
  },
  {
   "cell_type": "code",
   "execution_count": 19,
   "id": "73224186",
   "metadata": {},
   "outputs": [],
   "source": [
    "X_train_embeddings = []\n",
    "\n",
    "for e in X_train_embedding_tensor:\n",
    "    X_train_embeddings.append(e.tolist())"
   ]
  },
  {
   "cell_type": "code",
   "execution_count": 20,
   "id": "f6e67472",
   "metadata": {},
   "outputs": [],
   "source": [
    "df_X_train_embeddings = pd.DataFrame(columns=['fldSResponse'])\n",
    "df_X_train_embeddings['fldSResponse'] = X_train_embedding_tensor.squeeze().tolist()"
   ]
  },
  {
   "cell_type": "code",
   "execution_count": 21,
   "id": "7790b60c",
   "metadata": {},
   "outputs": [
    {
     "data": {
      "text/html": [
       "<div>\n",
       "<style scoped>\n",
       "    .dataframe tbody tr th:only-of-type {\n",
       "        vertical-align: middle;\n",
       "    }\n",
       "\n",
       "    .dataframe tbody tr th {\n",
       "        vertical-align: top;\n",
       "    }\n",
       "\n",
       "    .dataframe thead th {\n",
       "        text-align: right;\n",
       "    }\n",
       "</style>\n",
       "<table border=\"1\" class=\"dataframe\">\n",
       "  <thead>\n",
       "    <tr style=\"text-align: right;\">\n",
       "      <th></th>\n",
       "      <th>fldSResponse</th>\n",
       "    </tr>\n",
       "  </thead>\n",
       "  <tbody>\n",
       "    <tr>\n",
       "      <th>0</th>\n",
       "      <td>[-0.631592333316803, -0.26562607288360596, 0.4...</td>\n",
       "    </tr>\n",
       "    <tr>\n",
       "      <th>1</th>\n",
       "      <td>[-0.5919755101203918, -0.4642444849014282, 0.0...</td>\n",
       "    </tr>\n",
       "    <tr>\n",
       "      <th>2</th>\n",
       "      <td>[-0.09628454595804214, -0.1569906771183014, 0....</td>\n",
       "    </tr>\n",
       "    <tr>\n",
       "      <th>3</th>\n",
       "      <td>[-0.7327377796173096, -0.7049050331115723, -0....</td>\n",
       "    </tr>\n",
       "    <tr>\n",
       "      <th>4</th>\n",
       "      <td>[0.5074214339256287, -0.6415902972221375, -0.1...</td>\n",
       "    </tr>\n",
       "    <tr>\n",
       "      <th>...</th>\n",
       "      <td>...</td>\n",
       "    </tr>\n",
       "    <tr>\n",
       "      <th>779</th>\n",
       "      <td>[-0.12206078320741653, -0.8148605823516846, 0....</td>\n",
       "    </tr>\n",
       "    <tr>\n",
       "      <th>780</th>\n",
       "      <td>[0.08377835899591446, -0.6910518407821655, 0.2...</td>\n",
       "    </tr>\n",
       "    <tr>\n",
       "      <th>781</th>\n",
       "      <td>[0.6343774199485779, -0.4989088177680969, -0.3...</td>\n",
       "    </tr>\n",
       "    <tr>\n",
       "      <th>782</th>\n",
       "      <td>[-0.16054914891719818, -0.8411523103713989, 0....</td>\n",
       "    </tr>\n",
       "    <tr>\n",
       "      <th>783</th>\n",
       "      <td>[-0.20355549454689026, -0.4725573658943176, -0...</td>\n",
       "    </tr>\n",
       "  </tbody>\n",
       "</table>\n",
       "<p>784 rows × 1 columns</p>\n",
       "</div>"
      ],
      "text/plain": [
       "                                          fldSResponse\n",
       "0    [-0.631592333316803, -0.26562607288360596, 0.4...\n",
       "1    [-0.5919755101203918, -0.4642444849014282, 0.0...\n",
       "2    [-0.09628454595804214, -0.1569906771183014, 0....\n",
       "3    [-0.7327377796173096, -0.7049050331115723, -0....\n",
       "4    [0.5074214339256287, -0.6415902972221375, -0.1...\n",
       "..                                                 ...\n",
       "779  [-0.12206078320741653, -0.8148605823516846, 0....\n",
       "780  [0.08377835899591446, -0.6910518407821655, 0.2...\n",
       "781  [0.6343774199485779, -0.4989088177680969, -0.3...\n",
       "782  [-0.16054914891719818, -0.8411523103713989, 0....\n",
       "783  [-0.20355549454689026, -0.4725573658943176, -0...\n",
       "\n",
       "[784 rows x 1 columns]"
      ]
     },
     "execution_count": 21,
     "metadata": {},
     "output_type": "execute_result"
    }
   ],
   "source": [
    "df_X_train_embeddings"
   ]
  },
  {
   "cell_type": "code",
   "execution_count": 22,
   "id": "54c36aee",
   "metadata": {},
   "outputs": [],
   "source": [
    "#X_train_embeddings = []\n",
    "#for e in X_train_embedding_tensor:\n",
    "#    X_train_embeddings.append(list(e))"
   ]
  },
  {
   "cell_type": "code",
   "execution_count": 23,
   "id": "a5a88250",
   "metadata": {},
   "outputs": [],
   "source": [
    "#df_X_train_embeddings = pd.DataFrame(out, columns=[\"fldSResponse\"])"
   ]
  },
  {
   "cell_type": "code",
   "execution_count": 24,
   "id": "834dc5ec",
   "metadata": {},
   "outputs": [],
   "source": [
    "lst_X_test = X_test['fldSResponse'].tolist()\n",
    "#X_test_embedding_tensor = bert_model.encode(lst_X_test, convert_to_tensor=True)\n",
    "X_test_embedding_tensor = embed(lst_X_test)"
   ]
  },
  {
   "cell_type": "code",
   "execution_count": 25,
   "id": "b0046767",
   "metadata": {},
   "outputs": [],
   "source": [
    "X_test_embeddings = []\n",
    "\n",
    "for e in X_test_embedding_tensor:\n",
    "    X_test_embeddings.append(e.tolist())"
   ]
  },
  {
   "cell_type": "code",
   "execution_count": 26,
   "id": "feef2125",
   "metadata": {},
   "outputs": [],
   "source": [
    "df_X_test_embeddings = pd.DataFrame(columns=['fldSResponse'])\n",
    "df_X_test_embeddings['fldSResponse'] = X_test_embedding_tensor.squeeze().tolist()"
   ]
  },
  {
   "cell_type": "code",
   "execution_count": 27,
   "id": "54b77033",
   "metadata": {},
   "outputs": [
    {
     "data": {
      "text/html": [
       "<div>\n",
       "<style scoped>\n",
       "    .dataframe tbody tr th:only-of-type {\n",
       "        vertical-align: middle;\n",
       "    }\n",
       "\n",
       "    .dataframe tbody tr th {\n",
       "        vertical-align: top;\n",
       "    }\n",
       "\n",
       "    .dataframe thead th {\n",
       "        text-align: right;\n",
       "    }\n",
       "</style>\n",
       "<table border=\"1\" class=\"dataframe\">\n",
       "  <thead>\n",
       "    <tr style=\"text-align: right;\">\n",
       "      <th></th>\n",
       "      <th>fldSResponse</th>\n",
       "    </tr>\n",
       "  </thead>\n",
       "  <tbody>\n",
       "    <tr>\n",
       "      <th>0</th>\n",
       "      <td>[0.024058228358626366, -0.8745591640472412, 0....</td>\n",
       "    </tr>\n",
       "    <tr>\n",
       "      <th>1</th>\n",
       "      <td>[0.01263162400573492, -0.8510416746139526, 0.2...</td>\n",
       "    </tr>\n",
       "    <tr>\n",
       "      <th>2</th>\n",
       "      <td>[-0.10450049489736557, 0.09893166273832321, -0...</td>\n",
       "    </tr>\n",
       "    <tr>\n",
       "      <th>3</th>\n",
       "      <td>[-0.18817314505577087, -0.7248643636703491, 0....</td>\n",
       "    </tr>\n",
       "    <tr>\n",
       "      <th>4</th>\n",
       "      <td>[-0.6914100646972656, -0.5201022624969482, -0....</td>\n",
       "    </tr>\n",
       "    <tr>\n",
       "      <th>5</th>\n",
       "      <td>[-0.3277975022792816, 0.0030220355838537216, -...</td>\n",
       "    </tr>\n",
       "    <tr>\n",
       "      <th>6</th>\n",
       "      <td>[-0.3102119565010071, 0.4721035957336426, -0.4...</td>\n",
       "    </tr>\n",
       "    <tr>\n",
       "      <th>7</th>\n",
       "      <td>[-0.7927888035774231, -0.45587846636772156, 0....</td>\n",
       "    </tr>\n",
       "    <tr>\n",
       "      <th>8</th>\n",
       "      <td>[0.4695298969745636, 0.03089992329478264, -0.1...</td>\n",
       "    </tr>\n",
       "    <tr>\n",
       "      <th>9</th>\n",
       "      <td>[0.030138768255710602, -0.24352197349071503, -...</td>\n",
       "    </tr>\n",
       "    <tr>\n",
       "      <th>10</th>\n",
       "      <td>[0.3660634160041809, -0.8073945045471191, -0.1...</td>\n",
       "    </tr>\n",
       "    <tr>\n",
       "      <th>11</th>\n",
       "      <td>[-0.3365198075771332, -0.3940545916557312, -0....</td>\n",
       "    </tr>\n",
       "    <tr>\n",
       "      <th>12</th>\n",
       "      <td>[-0.35432371497154236, 0.12193971872329712, -0...</td>\n",
       "    </tr>\n",
       "    <tr>\n",
       "      <th>13</th>\n",
       "      <td>[-0.5974158048629761, -0.43714678287506104, -0...</td>\n",
       "    </tr>\n",
       "    <tr>\n",
       "      <th>14</th>\n",
       "      <td>[-0.3160994350910187, -0.644746720790863, 0.11...</td>\n",
       "    </tr>\n",
       "    <tr>\n",
       "      <th>15</th>\n",
       "      <td>[-0.5138080716133118, -0.8883097767829895, 0.3...</td>\n",
       "    </tr>\n",
       "    <tr>\n",
       "      <th>16</th>\n",
       "      <td>[-0.46239200234413147, -0.35517603158950806, -...</td>\n",
       "    </tr>\n",
       "    <tr>\n",
       "      <th>17</th>\n",
       "      <td>[-0.43595439195632935, -0.9300132393836975, 0....</td>\n",
       "    </tr>\n",
       "    <tr>\n",
       "      <th>18</th>\n",
       "      <td>[-0.6792317628860474, -0.23408691585063934, -0...</td>\n",
       "    </tr>\n",
       "    <tr>\n",
       "      <th>19</th>\n",
       "      <td>[0.6640304923057556, -0.01699667237699032, 0.4...</td>\n",
       "    </tr>\n",
       "    <tr>\n",
       "      <th>20</th>\n",
       "      <td>[-0.771190345287323, -0.7374643683433533, 0.93...</td>\n",
       "    </tr>\n",
       "    <tr>\n",
       "      <th>21</th>\n",
       "      <td>[-0.6423009634017944, -0.45511603355407715, -0...</td>\n",
       "    </tr>\n",
       "    <tr>\n",
       "      <th>22</th>\n",
       "      <td>[0.700454831123352, -0.4575808346271515, -0.52...</td>\n",
       "    </tr>\n",
       "    <tr>\n",
       "      <th>23</th>\n",
       "      <td>[-0.2821669280529022, 0.05716661736369133, -0....</td>\n",
       "    </tr>\n",
       "    <tr>\n",
       "      <th>24</th>\n",
       "      <td>[-0.7493050694465637, -0.2892654538154602, 0.2...</td>\n",
       "    </tr>\n",
       "    <tr>\n",
       "      <th>25</th>\n",
       "      <td>[-0.21786372363567352, -0.723116934299469, -0....</td>\n",
       "    </tr>\n",
       "    <tr>\n",
       "      <th>26</th>\n",
       "      <td>[-0.4613686800003052, -0.306033730506897, -0.2...</td>\n",
       "    </tr>\n",
       "    <tr>\n",
       "      <th>27</th>\n",
       "      <td>[-0.09925644844770432, -0.02141530066728592, -...</td>\n",
       "    </tr>\n",
       "    <tr>\n",
       "      <th>28</th>\n",
       "      <td>[-0.6198446154594421, -0.710275411605835, -0.0...</td>\n",
       "    </tr>\n",
       "    <tr>\n",
       "      <th>29</th>\n",
       "      <td>[0.11923326551914215, -0.7263690233230591, 0.0...</td>\n",
       "    </tr>\n",
       "    <tr>\n",
       "      <th>30</th>\n",
       "      <td>[0.5774108171463013, 0.12814314663410187, -0.8...</td>\n",
       "    </tr>\n",
       "    <tr>\n",
       "      <th>31</th>\n",
       "      <td>[-0.2829478681087494, -0.33977752923965454, -0...</td>\n",
       "    </tr>\n",
       "    <tr>\n",
       "      <th>32</th>\n",
       "      <td>[-0.4975273013114929, -0.37980562448501587, -0...</td>\n",
       "    </tr>\n",
       "    <tr>\n",
       "      <th>33</th>\n",
       "      <td>[-0.06749197840690613, -0.7407230138778687, -0...</td>\n",
       "    </tr>\n",
       "    <tr>\n",
       "      <th>34</th>\n",
       "      <td>[0.12835465371608734, -0.5835334062576294, 0.6...</td>\n",
       "    </tr>\n",
       "    <tr>\n",
       "      <th>35</th>\n",
       "      <td>[-0.14871391654014587, 0.04015618562698364, -0...</td>\n",
       "    </tr>\n",
       "    <tr>\n",
       "      <th>36</th>\n",
       "      <td>[0.4784836769104004, -0.07689258456230164, -0....</td>\n",
       "    </tr>\n",
       "    <tr>\n",
       "      <th>37</th>\n",
       "      <td>[-0.25872859358787537, -0.7819228768348694, 0....</td>\n",
       "    </tr>\n",
       "    <tr>\n",
       "      <th>38</th>\n",
       "      <td>[0.34864160418510437, -0.4661064147949219, -0....</td>\n",
       "    </tr>\n",
       "    <tr>\n",
       "      <th>39</th>\n",
       "      <td>[-0.3290134072303772, -0.11417310684919357, -0...</td>\n",
       "    </tr>\n",
       "    <tr>\n",
       "      <th>40</th>\n",
       "      <td>[-0.5734506845474243, -0.5602004528045654, -0....</td>\n",
       "    </tr>\n",
       "    <tr>\n",
       "      <th>41</th>\n",
       "      <td>[0.059858083724975586, -0.42007455229759216, -...</td>\n",
       "    </tr>\n",
       "  </tbody>\n",
       "</table>\n",
       "</div>"
      ],
      "text/plain": [
       "                                         fldSResponse\n",
       "0   [0.024058228358626366, -0.8745591640472412, 0....\n",
       "1   [0.01263162400573492, -0.8510416746139526, 0.2...\n",
       "2   [-0.10450049489736557, 0.09893166273832321, -0...\n",
       "3   [-0.18817314505577087, -0.7248643636703491, 0....\n",
       "4   [-0.6914100646972656, -0.5201022624969482, -0....\n",
       "5   [-0.3277975022792816, 0.0030220355838537216, -...\n",
       "6   [-0.3102119565010071, 0.4721035957336426, -0.4...\n",
       "7   [-0.7927888035774231, -0.45587846636772156, 0....\n",
       "8   [0.4695298969745636, 0.03089992329478264, -0.1...\n",
       "9   [0.030138768255710602, -0.24352197349071503, -...\n",
       "10  [0.3660634160041809, -0.8073945045471191, -0.1...\n",
       "11  [-0.3365198075771332, -0.3940545916557312, -0....\n",
       "12  [-0.35432371497154236, 0.12193971872329712, -0...\n",
       "13  [-0.5974158048629761, -0.43714678287506104, -0...\n",
       "14  [-0.3160994350910187, -0.644746720790863, 0.11...\n",
       "15  [-0.5138080716133118, -0.8883097767829895, 0.3...\n",
       "16  [-0.46239200234413147, -0.35517603158950806, -...\n",
       "17  [-0.43595439195632935, -0.9300132393836975, 0....\n",
       "18  [-0.6792317628860474, -0.23408691585063934, -0...\n",
       "19  [0.6640304923057556, -0.01699667237699032, 0.4...\n",
       "20  [-0.771190345287323, -0.7374643683433533, 0.93...\n",
       "21  [-0.6423009634017944, -0.45511603355407715, -0...\n",
       "22  [0.700454831123352, -0.4575808346271515, -0.52...\n",
       "23  [-0.2821669280529022, 0.05716661736369133, -0....\n",
       "24  [-0.7493050694465637, -0.2892654538154602, 0.2...\n",
       "25  [-0.21786372363567352, -0.723116934299469, -0....\n",
       "26  [-0.4613686800003052, -0.306033730506897, -0.2...\n",
       "27  [-0.09925644844770432, -0.02141530066728592, -...\n",
       "28  [-0.6198446154594421, -0.710275411605835, -0.0...\n",
       "29  [0.11923326551914215, -0.7263690233230591, 0.0...\n",
       "30  [0.5774108171463013, 0.12814314663410187, -0.8...\n",
       "31  [-0.2829478681087494, -0.33977752923965454, -0...\n",
       "32  [-0.4975273013114929, -0.37980562448501587, -0...\n",
       "33  [-0.06749197840690613, -0.7407230138778687, -0...\n",
       "34  [0.12835465371608734, -0.5835334062576294, 0.6...\n",
       "35  [-0.14871391654014587, 0.04015618562698364, -0...\n",
       "36  [0.4784836769104004, -0.07689258456230164, -0....\n",
       "37  [-0.25872859358787537, -0.7819228768348694, 0....\n",
       "38  [0.34864160418510437, -0.4661064147949219, -0....\n",
       "39  [-0.3290134072303772, -0.11417310684919357, -0...\n",
       "40  [-0.5734506845474243, -0.5602004528045654, -0....\n",
       "41  [0.059858083724975586, -0.42007455229759216, -..."
      ]
     },
     "execution_count": 27,
     "metadata": {},
     "output_type": "execute_result"
    }
   ],
   "source": [
    "df_X_test_embeddings"
   ]
  },
  {
   "cell_type": "code",
   "execution_count": 28,
   "id": "67217a74",
   "metadata": {},
   "outputs": [],
   "source": [
    "#X_test_embeddings = []\n",
    "#for e in X_test_embedding_tensor:\n",
    "#    X_test_embeddings.append(list(e))"
   ]
  },
  {
   "cell_type": "code",
   "execution_count": 29,
   "id": "0ed53bc5",
   "metadata": {},
   "outputs": [],
   "source": [
    "y_train = y_train.values.tolist()\n",
    "y_test = y_test.values.tolist()"
   ]
  },
  {
   "cell_type": "code",
   "execution_count": 30,
   "id": "0d469dd4",
   "metadata": {},
   "outputs": [],
   "source": [
    "X_train_embeddings_backup, X_test_embeddings_backup = X_train_embeddings, X_test_embeddings"
   ]
  },
  {
   "cell_type": "code",
   "execution_count": 31,
   "id": "f5f74667",
   "metadata": {},
   "outputs": [
    {
     "data": {
      "text/plain": [
       "list"
      ]
     },
     "execution_count": 31,
     "metadata": {},
     "output_type": "execute_result"
    }
   ],
   "source": [
    "type(X_train_embeddings_backup)"
   ]
  },
  {
   "cell_type": "code",
   "execution_count": 32,
   "id": "f8c4a30a",
   "metadata": {},
   "outputs": [],
   "source": [
    "X_train_embeddings_backup = pd.DataFrame(X_train_embeddings_backup)\n",
    "X_test_embeddings_backup = pd.DataFrame(X_test_embeddings_backup)"
   ]
  },
  {
   "cell_type": "code",
   "execution_count": 33,
   "id": "c07bce2d",
   "metadata": {},
   "outputs": [],
   "source": [
    "import numpy as np"
   ]
  },
  {
   "cell_type": "code",
   "execution_count": 34,
   "id": "ae8623f6",
   "metadata": {},
   "outputs": [],
   "source": [
    "X_train_embeddings = np.array(X_train_embeddings)\n",
    "X_test_embeddings = np.array(X_test_embeddings)\n",
    "y_train = np.array(y_train)\n",
    "y_test = np.array(y_test)"
   ]
  },
  {
   "cell_type": "code",
   "execution_count": 35,
   "id": "a3c8a9a0",
   "metadata": {},
   "outputs": [],
   "source": [
    "def binary_focal_loss(gamma=0.1, alpha=0.5):\n",
    "\n",
    "    def binary_focal_loss_fixed(y_true, y_pred):\n",
    "        \"\"\"\n",
    "        :param y_true: A tensor of the same shape as `y_pred`\n",
    "        :param y_pred:  A tensor resulting from a sigmoid\n",
    "        :return: Output tensor.\n",
    "        \"\"\"\n",
    "        y_true = tf.cast(y_true, tf.float32)\n",
    "        # Define epsilon so that the back-propagation will not result in NaN for 0 divisor case\n",
    "        epsilon = K.epsilon()\n",
    "        # Add the epsilon to prediction value\n",
    "        # y_pred = y_pred + epsilon\n",
    "        # Clip the prediciton value\n",
    "        y_pred = K.clip(y_pred, epsilon, 1.0 - epsilon)\n",
    "        # Calculate p_t\n",
    "        p_t = tf.where(K.equal(y_true, 1), y_pred, 1 - y_pred)\n",
    "        # Calculate alpha_t\n",
    "        alpha_factor = K.ones_like(y_true) * alpha\n",
    "        alpha_t = tf.where(K.equal(y_true, 1), alpha_factor, 1 - alpha_factor)\n",
    "        # Calculate cross entropy\n",
    "        cross_entropy = -K.log(p_t)\n",
    "        weight = alpha_t * K.pow((1 - p_t), gamma)\n",
    "        # Calculate focal loss\n",
    "        loss = weight * cross_entropy\n",
    "        # Sum the losses in mini_batch\n",
    "        loss = K.mean(K.sum(loss, axis=1))\n",
    "        return loss\n",
    "\n",
    "    return binary_focal_loss_fixed"
   ]
  },
  {
   "cell_type": "code",
   "execution_count": 42,
   "id": "633a857f",
   "metadata": {},
   "outputs": [
    {
     "name": "stderr",
     "output_type": "stream",
     "text": [
      "2023-04-07 11:30:52.934053: I tensorflow/core/platform/cpu_feature_guard.cc:182] This TensorFlow binary is optimized to use available CPU instructions in performance-critical operations.\n",
      "To enable the following instructions: AVX2 AVX512F FMA, in other operations, rebuild TensorFlow with the appropriate compiler flags.\n",
      "2023-04-07 11:30:53.647831: W tensorflow/compiler/tf2tensorrt/utils/py_utils.cc:38] TF-TRT Warning: Could not find TensorRT\n"
     ]
    },
    {
     "name": "stdout",
     "output_type": "stream",
     "text": [
      "Epoch 1/100\n"
     ]
    },
    {
     "name": "stderr",
     "output_type": "stream",
     "text": [
      "2023-04-07 11:30:54.584056: W tensorflow/core/common_runtime/gpu/gpu_device.cc:1956] Cannot dlopen some GPU libraries. Please make sure the missing libraries mentioned above are installed properly if you would like to use GPU. Follow the guide at https://www.tensorflow.org/install/gpu for how to download and setup the required libraries for your platform.\n",
      "Skipping registering GPU devices...\n"
     ]
    },
    {
     "name": "stdout",
     "output_type": "stream",
     "text": [
      "48/49 [============================>.] - ETA: 0s - loss: 0.2151 - binary_accuracy: 0.7852\n",
      "Epoch 1: val_loss improved from inf to 0.14121, saving model to ./tmp/checkpoint-4\n"
     ]
    },
    {
     "name": "stderr",
     "output_type": "stream",
     "text": [
      "2023-04-07 11:30:55.761931: I tensorflow/core/common_runtime/executor.cc:1197] [/device:CPU:0] (DEBUG INFO) Executor start aborting (this does not indicate an error and you can ignore this message): INVALID_ARGUMENT: You must feed a value for placeholder tensor 'inputs' with dtype float and shape [?,64]\n",
      "\t [[{{node inputs}}]]\n",
      "2023-04-07 11:30:55.771802: I tensorflow/core/common_runtime/executor.cc:1197] [/device:CPU:0] (DEBUG INFO) Executor start aborting (this does not indicate an error and you can ignore this message): INVALID_ARGUMENT: You must feed a value for placeholder tensor 'inputs' with dtype float and shape [?,32]\n",
      "\t [[{{node inputs}}]]\n",
      "2023-04-07 11:30:55.888568: I tensorflow/core/common_runtime/executor.cc:1197] [/device:CPU:0] (DEBUG INFO) Executor start aborting (this does not indicate an error and you can ignore this message): INVALID_ARGUMENT: You must feed a value for placeholder tensor 'inputs' with dtype float and shape [?,64]\n",
      "\t [[{{node inputs}}]]\n",
      "2023-04-07 11:30:55.910295: I tensorflow/core/common_runtime/executor.cc:1197] [/device:CPU:0] (DEBUG INFO) Executor start aborting (this does not indicate an error and you can ignore this message): INVALID_ARGUMENT: You must feed a value for placeholder tensor 'inputs' with dtype float and shape [?,32]\n",
      "\t [[{{node inputs}}]]\n",
      "WARNING:absl:Found untraced functions such as _update_step_xla while saving (showing 1 of 1). These functions will not be directly callable after loading.\n"
     ]
    },
    {
     "name": "stdout",
     "output_type": "stream",
     "text": [
      "INFO:tensorflow:Assets written to: ./tmp/checkpoint-4/assets\n"
     ]
    },
    {
     "name": "stderr",
     "output_type": "stream",
     "text": [
      "INFO:tensorflow:Assets written to: ./tmp/checkpoint-4/assets\n"
     ]
    },
    {
     "name": "stdout",
     "output_type": "stream",
     "text": [
      "49/49 [==============================] - 1s 18ms/step - loss: 0.2125 - binary_accuracy: 0.7883 - val_loss: 0.1412 - val_binary_accuracy: 0.8571\n",
      "Epoch 2/100\n",
      "38/49 [======================>.......] - ETA: 0s - loss: 0.1702 - binary_accuracy: 0.8487\n",
      "Epoch 2: val_loss improved from 0.14121 to 0.13460, saving model to ./tmp/checkpoint-4\n"
     ]
    },
    {
     "name": "stderr",
     "output_type": "stream",
     "text": [
      "2023-04-07 11:30:56.426725: I tensorflow/core/common_runtime/executor.cc:1197] [/device:CPU:0] (DEBUG INFO) Executor start aborting (this does not indicate an error and you can ignore this message): INVALID_ARGUMENT: You must feed a value for placeholder tensor 'inputs' with dtype float and shape [?,64]\n",
      "\t [[{{node inputs}}]]\n",
      "2023-04-07 11:30:56.436509: I tensorflow/core/common_runtime/executor.cc:1197] [/device:CPU:0] (DEBUG INFO) Executor start aborting (this does not indicate an error and you can ignore this message): INVALID_ARGUMENT: You must feed a value for placeholder tensor 'inputs' with dtype float and shape [?,32]\n",
      "\t [[{{node inputs}}]]\n",
      "2023-04-07 11:30:56.530994: I tensorflow/core/common_runtime/executor.cc:1197] [/device:CPU:0] (DEBUG INFO) Executor start aborting (this does not indicate an error and you can ignore this message): INVALID_ARGUMENT: You must feed a value for placeholder tensor 'inputs' with dtype float and shape [?,64]\n",
      "\t [[{{node inputs}}]]\n",
      "2023-04-07 11:30:56.553287: I tensorflow/core/common_runtime/executor.cc:1197] [/device:CPU:0] (DEBUG INFO) Executor start aborting (this does not indicate an error and you can ignore this message): INVALID_ARGUMENT: You must feed a value for placeholder tensor 'inputs' with dtype float and shape [?,32]\n",
      "\t [[{{node inputs}}]]\n",
      "WARNING:absl:Found untraced functions such as _update_step_xla while saving (showing 1 of 1). These functions will not be directly callable after loading.\n"
     ]
    },
    {
     "name": "stdout",
     "output_type": "stream",
     "text": [
      "INFO:tensorflow:Assets written to: ./tmp/checkpoint-4/assets\n"
     ]
    },
    {
     "name": "stderr",
     "output_type": "stream",
     "text": [
      "INFO:tensorflow:Assets written to: ./tmp/checkpoint-4/assets\n"
     ]
    },
    {
     "name": "stdout",
     "output_type": "stream",
     "text": [
      "49/49 [==============================] - 1s 12ms/step - loss: 0.1665 - binary_accuracy: 0.8508 - val_loss: 0.1346 - val_binary_accuracy: 0.8810\n",
      "Epoch 3/100\n",
      "38/49 [======================>.......] - ETA: 0s - loss: 0.1576 - binary_accuracy: 0.8717\n",
      "Epoch 3: val_loss improved from 0.13460 to 0.12711, saving model to ./tmp/checkpoint-4\n"
     ]
    },
    {
     "name": "stderr",
     "output_type": "stream",
     "text": [
      "2023-04-07 11:30:57.039832: I tensorflow/core/common_runtime/executor.cc:1197] [/device:CPU:0] (DEBUG INFO) Executor start aborting (this does not indicate an error and you can ignore this message): INVALID_ARGUMENT: You must feed a value for placeholder tensor 'inputs' with dtype float and shape [?,64]\n",
      "\t [[{{node inputs}}]]\n",
      "2023-04-07 11:30:57.049815: I tensorflow/core/common_runtime/executor.cc:1197] [/device:CPU:0] (DEBUG INFO) Executor start aborting (this does not indicate an error and you can ignore this message): INVALID_ARGUMENT: You must feed a value for placeholder tensor 'inputs' with dtype float and shape [?,32]\n",
      "\t [[{{node inputs}}]]\n",
      "2023-04-07 11:30:57.145590: I tensorflow/core/common_runtime/executor.cc:1197] [/device:CPU:0] (DEBUG INFO) Executor start aborting (this does not indicate an error and you can ignore this message): INVALID_ARGUMENT: You must feed a value for placeholder tensor 'inputs' with dtype float and shape [?,64]\n",
      "\t [[{{node inputs}}]]\n",
      "2023-04-07 11:30:57.167159: I tensorflow/core/common_runtime/executor.cc:1197] [/device:CPU:0] (DEBUG INFO) Executor start aborting (this does not indicate an error and you can ignore this message): INVALID_ARGUMENT: You must feed a value for placeholder tensor 'inputs' with dtype float and shape [?,32]\n",
      "\t [[{{node inputs}}]]\n",
      "WARNING:absl:Found untraced functions such as _update_step_xla while saving (showing 1 of 1). These functions will not be directly callable after loading.\n"
     ]
    },
    {
     "name": "stdout",
     "output_type": "stream",
     "text": [
      "INFO:tensorflow:Assets written to: ./tmp/checkpoint-4/assets\n"
     ]
    },
    {
     "name": "stderr",
     "output_type": "stream",
     "text": [
      "INFO:tensorflow:Assets written to: ./tmp/checkpoint-4/assets\n"
     ]
    },
    {
     "name": "stdout",
     "output_type": "stream",
     "text": [
      "49/49 [==============================] - 1s 13ms/step - loss: 0.1500 - binary_accuracy: 0.8839 - val_loss: 0.1271 - val_binary_accuracy: 0.8810\n",
      "Epoch 4/100\n",
      "37/49 [=====================>........] - ETA: 0s - loss: 0.1366 - binary_accuracy: 0.8936\n",
      "Epoch 4: val_loss improved from 0.12711 to 0.12409, saving model to ./tmp/checkpoint-4\n"
     ]
    },
    {
     "name": "stderr",
     "output_type": "stream",
     "text": [
      "2023-04-07 11:30:57.643508: I tensorflow/core/common_runtime/executor.cc:1197] [/device:CPU:0] (DEBUG INFO) Executor start aborting (this does not indicate an error and you can ignore this message): INVALID_ARGUMENT: You must feed a value for placeholder tensor 'inputs' with dtype float and shape [?,64]\n",
      "\t [[{{node inputs}}]]\n",
      "2023-04-07 11:30:57.653059: I tensorflow/core/common_runtime/executor.cc:1197] [/device:CPU:0] (DEBUG INFO) Executor start aborting (this does not indicate an error and you can ignore this message): INVALID_ARGUMENT: You must feed a value for placeholder tensor 'inputs' with dtype float and shape [?,32]\n",
      "\t [[{{node inputs}}]]\n",
      "2023-04-07 11:30:57.746902: I tensorflow/core/common_runtime/executor.cc:1197] [/device:CPU:0] (DEBUG INFO) Executor start aborting (this does not indicate an error and you can ignore this message): INVALID_ARGUMENT: You must feed a value for placeholder tensor 'inputs' with dtype float and shape [?,64]\n",
      "\t [[{{node inputs}}]]\n",
      "2023-04-07 11:30:57.768069: I tensorflow/core/common_runtime/executor.cc:1197] [/device:CPU:0] (DEBUG INFO) Executor start aborting (this does not indicate an error and you can ignore this message): INVALID_ARGUMENT: You must feed a value for placeholder tensor 'inputs' with dtype float and shape [?,32]\n",
      "\t [[{{node inputs}}]]\n",
      "WARNING:absl:Found untraced functions such as _update_step_xla while saving (showing 1 of 1). These functions will not be directly callable after loading.\n"
     ]
    },
    {
     "name": "stdout",
     "output_type": "stream",
     "text": [
      "INFO:tensorflow:Assets written to: ./tmp/checkpoint-4/assets\n"
     ]
    },
    {
     "name": "stderr",
     "output_type": "stream",
     "text": [
      "INFO:tensorflow:Assets written to: ./tmp/checkpoint-4/assets\n"
     ]
    },
    {
     "name": "stdout",
     "output_type": "stream",
     "text": [
      "49/49 [==============================] - 1s 12ms/step - loss: 0.1385 - binary_accuracy: 0.8890 - val_loss: 0.1241 - val_binary_accuracy: 0.8810\n",
      "Epoch 5/100\n",
      "37/49 [=====================>........] - ETA: 0s - loss: 0.1401 - binary_accuracy: 0.8834\n",
      "Epoch 5: val_loss improved from 0.12409 to 0.11647, saving model to ./tmp/checkpoint-4\n"
     ]
    },
    {
     "name": "stderr",
     "output_type": "stream",
     "text": [
      "2023-04-07 11:30:58.245487: I tensorflow/core/common_runtime/executor.cc:1197] [/device:CPU:0] (DEBUG INFO) Executor start aborting (this does not indicate an error and you can ignore this message): INVALID_ARGUMENT: You must feed a value for placeholder tensor 'inputs' with dtype float and shape [?,64]\n",
      "\t [[{{node inputs}}]]\n",
      "2023-04-07 11:30:58.255213: I tensorflow/core/common_runtime/executor.cc:1197] [/device:CPU:0] (DEBUG INFO) Executor start aborting (this does not indicate an error and you can ignore this message): INVALID_ARGUMENT: You must feed a value for placeholder tensor 'inputs' with dtype float and shape [?,32]\n",
      "\t [[{{node inputs}}]]\n",
      "2023-04-07 11:30:58.349767: I tensorflow/core/common_runtime/executor.cc:1197] [/device:CPU:0] (DEBUG INFO) Executor start aborting (this does not indicate an error and you can ignore this message): INVALID_ARGUMENT: You must feed a value for placeholder tensor 'inputs' with dtype float and shape [?,64]\n",
      "\t [[{{node inputs}}]]\n",
      "2023-04-07 11:30:58.607007: I tensorflow/core/common_runtime/executor.cc:1197] [/device:CPU:0] (DEBUG INFO) Executor start aborting (this does not indicate an error and you can ignore this message): INVALID_ARGUMENT: You must feed a value for placeholder tensor 'inputs' with dtype float and shape [?,32]\n",
      "\t [[{{node inputs}}]]\n",
      "WARNING:absl:Found untraced functions such as _update_step_xla while saving (showing 1 of 1). These functions will not be directly callable after loading.\n"
     ]
    },
    {
     "name": "stdout",
     "output_type": "stream",
     "text": [
      "INFO:tensorflow:Assets written to: ./tmp/checkpoint-4/assets\n"
     ]
    },
    {
     "name": "stderr",
     "output_type": "stream",
     "text": [
      "INFO:tensorflow:Assets written to: ./tmp/checkpoint-4/assets\n"
     ]
    },
    {
     "name": "stdout",
     "output_type": "stream",
     "text": [
      "49/49 [==============================] - 1s 17ms/step - loss: 0.1357 - binary_accuracy: 0.8852 - val_loss: 0.1165 - val_binary_accuracy: 0.9048\n",
      "Epoch 6/100\n",
      "40/49 [=======================>......] - ETA: 0s - loss: 0.1229 - binary_accuracy: 0.9078\n",
      "Epoch 6: val_loss improved from 0.11647 to 0.11309, saving model to ./tmp/checkpoint-4\n"
     ]
    },
    {
     "name": "stderr",
     "output_type": "stream",
     "text": [
      "2023-04-07 11:30:59.097648: I tensorflow/core/common_runtime/executor.cc:1197] [/device:CPU:0] (DEBUG INFO) Executor start aborting (this does not indicate an error and you can ignore this message): INVALID_ARGUMENT: You must feed a value for placeholder tensor 'inputs' with dtype float and shape [?,64]\n",
      "\t [[{{node inputs}}]]\n",
      "2023-04-07 11:30:59.107519: I tensorflow/core/common_runtime/executor.cc:1197] [/device:CPU:0] (DEBUG INFO) Executor start aborting (this does not indicate an error and you can ignore this message): INVALID_ARGUMENT: You must feed a value for placeholder tensor 'inputs' with dtype float and shape [?,32]\n",
      "\t [[{{node inputs}}]]\n",
      "2023-04-07 11:30:59.200558: I tensorflow/core/common_runtime/executor.cc:1197] [/device:CPU:0] (DEBUG INFO) Executor start aborting (this does not indicate an error and you can ignore this message): INVALID_ARGUMENT: You must feed a value for placeholder tensor 'inputs' with dtype float and shape [?,64]\n",
      "\t [[{{node inputs}}]]\n",
      "2023-04-07 11:30:59.221665: I tensorflow/core/common_runtime/executor.cc:1197] [/device:CPU:0] (DEBUG INFO) Executor start aborting (this does not indicate an error and you can ignore this message): INVALID_ARGUMENT: You must feed a value for placeholder tensor 'inputs' with dtype float and shape [?,32]\n",
      "\t [[{{node inputs}}]]\n",
      "WARNING:absl:Found untraced functions such as _update_step_xla while saving (showing 1 of 1). These functions will not be directly callable after loading.\n"
     ]
    },
    {
     "name": "stdout",
     "output_type": "stream",
     "text": [
      "INFO:tensorflow:Assets written to: ./tmp/checkpoint-4/assets\n"
     ]
    },
    {
     "name": "stderr",
     "output_type": "stream",
     "text": [
      "INFO:tensorflow:Assets written to: ./tmp/checkpoint-4/assets\n"
     ]
    },
    {
     "name": "stdout",
     "output_type": "stream",
     "text": [
      "49/49 [==============================] - 1s 13ms/step - loss: 0.1258 - binary_accuracy: 0.9056 - val_loss: 0.1131 - val_binary_accuracy: 0.8810\n",
      "Epoch 7/100\n",
      "37/49 [=====================>........] - ETA: 0s - loss: 0.1064 - binary_accuracy: 0.9206\n",
      "Epoch 7: val_loss did not improve from 0.11309\n",
      "49/49 [==============================] - 0s 4ms/step - loss: 0.1085 - binary_accuracy: 0.9145 - val_loss: 0.1254 - val_binary_accuracy: 0.9048\n",
      "Epoch 8/100\n",
      "47/49 [===========================>..] - ETA: 0s - loss: 0.1028 - binary_accuracy: 0.9215\n",
      "Epoch 8: val_loss did not improve from 0.11309\n",
      "49/49 [==============================] - 0s 4ms/step - loss: 0.1019 - binary_accuracy: 0.9222 - val_loss: 0.1274 - val_binary_accuracy: 0.8810\n",
      "Epoch 9/100\n",
      "46/49 [===========================>..] - ETA: 0s - loss: 0.0969 - binary_accuracy: 0.9293\n",
      "Epoch 9: val_loss did not improve from 0.11309\n",
      "49/49 [==============================] - 0s 4ms/step - loss: 0.0968 - binary_accuracy: 0.9286 - val_loss: 0.1320 - val_binary_accuracy: 0.8571\n",
      "Epoch 10/100\n",
      "45/49 [==========================>...] - ETA: 0s - loss: 0.0869 - binary_accuracy: 0.9361\n",
      "Epoch 10: val_loss did not improve from 0.11309\n",
      "49/49 [==============================] - 0s 4ms/step - loss: 0.0860 - binary_accuracy: 0.9362 - val_loss: 0.1283 - val_binary_accuracy: 0.9048\n",
      "Epoch 11/100\n",
      "45/49 [==========================>...] - ETA: 0s - loss: 0.0887 - binary_accuracy: 0.9347\n",
      "Epoch 11: val_loss improved from 0.11309 to 0.09970, saving model to ./tmp/checkpoint-4\n"
     ]
    },
    {
     "name": "stderr",
     "output_type": "stream",
     "text": [
      "2023-04-07 11:31:00.570571: I tensorflow/core/common_runtime/executor.cc:1197] [/device:CPU:0] (DEBUG INFO) Executor start aborting (this does not indicate an error and you can ignore this message): INVALID_ARGUMENT: You must feed a value for placeholder tensor 'inputs' with dtype float and shape [?,64]\n",
      "\t [[{{node inputs}}]]\n",
      "2023-04-07 11:31:00.580525: I tensorflow/core/common_runtime/executor.cc:1197] [/device:CPU:0] (DEBUG INFO) Executor start aborting (this does not indicate an error and you can ignore this message): INVALID_ARGUMENT: You must feed a value for placeholder tensor 'inputs' with dtype float and shape [?,32]\n",
      "\t [[{{node inputs}}]]\n",
      "2023-04-07 11:31:00.675988: I tensorflow/core/common_runtime/executor.cc:1197] [/device:CPU:0] (DEBUG INFO) Executor start aborting (this does not indicate an error and you can ignore this message): INVALID_ARGUMENT: You must feed a value for placeholder tensor 'inputs' with dtype float and shape [?,64]\n",
      "\t [[{{node inputs}}]]\n",
      "2023-04-07 11:31:00.697475: I tensorflow/core/common_runtime/executor.cc:1197] [/device:CPU:0] (DEBUG INFO) Executor start aborting (this does not indicate an error and you can ignore this message): INVALID_ARGUMENT: You must feed a value for placeholder tensor 'inputs' with dtype float and shape [?,32]\n",
      "\t [[{{node inputs}}]]\n",
      "WARNING:absl:Found untraced functions such as _update_step_xla while saving (showing 1 of 1). These functions will not be directly callable after loading.\n"
     ]
    },
    {
     "name": "stdout",
     "output_type": "stream",
     "text": [
      "INFO:tensorflow:Assets written to: ./tmp/checkpoint-4/assets\n"
     ]
    },
    {
     "name": "stderr",
     "output_type": "stream",
     "text": [
      "INFO:tensorflow:Assets written to: ./tmp/checkpoint-4/assets\n"
     ]
    },
    {
     "name": "stdout",
     "output_type": "stream",
     "text": [
      "49/49 [==============================] - 1s 14ms/step - loss: 0.0862 - binary_accuracy: 0.9349 - val_loss: 0.0997 - val_binary_accuracy: 0.9048\n",
      "Epoch 12/100\n",
      "37/49 [=====================>........] - ETA: 0s - loss: 0.0785 - binary_accuracy: 0.9443\n",
      "Epoch 12: val_loss did not improve from 0.09970\n",
      "49/49 [==============================] - 0s 4ms/step - loss: 0.0799 - binary_accuracy: 0.9413 - val_loss: 0.1545 - val_binary_accuracy: 0.8333\n",
      "Epoch 13/100\n",
      "46/49 [===========================>..] - ETA: 0s - loss: 0.0752 - binary_accuracy: 0.9443\n",
      "Epoch 13: val_loss did not improve from 0.09970\n",
      "49/49 [==============================] - 0s 4ms/step - loss: 0.0723 - binary_accuracy: 0.9477 - val_loss: 0.1351 - val_binary_accuracy: 0.8810\n",
      "Epoch 14/100\n",
      "46/49 [===========================>..] - ETA: 0s - loss: 0.0675 - binary_accuracy: 0.9497\n",
      "Epoch 14: val_loss did not improve from 0.09970\n",
      "49/49 [==============================] - 0s 4ms/step - loss: 0.0684 - binary_accuracy: 0.9503 - val_loss: 0.1190 - val_binary_accuracy: 0.9048\n",
      "Epoch 15/100\n",
      "47/49 [===========================>..] - ETA: 0s - loss: 0.0651 - binary_accuracy: 0.9455\n",
      "Epoch 15: val_loss did not improve from 0.09970\n",
      "49/49 [==============================] - 0s 4ms/step - loss: 0.0646 - binary_accuracy: 0.9464 - val_loss: 0.1358 - val_binary_accuracy: 0.8810\n",
      "Epoch 16/100\n",
      "47/49 [===========================>..] - ETA: 0s - loss: 0.0572 - binary_accuracy: 0.9588\n",
      "Epoch 16: val_loss did not improve from 0.09970\n",
      "49/49 [==============================] - 0s 4ms/step - loss: 0.0566 - binary_accuracy: 0.9592 - val_loss: 0.1269 - val_binary_accuracy: 0.8810\n",
      "Epoch 17/100\n",
      "30/49 [=================>............] - ETA: 0s - loss: 0.0454 - binary_accuracy: 0.9729"
     ]
    },
    {
     "name": "stderr",
     "output_type": "stream",
     "text": [
      "\n",
      "KeyboardInterrupt\n",
      "\n"
     ]
    }
   ],
   "source": [
    "import ast \n",
    "import boto3\n",
    "import pandas as pd\n",
    "import numpy as np\n",
    "from pyspark.sql.functions import *\n",
    "from datetime import date, timedelta\n",
    "import datetime\n",
    "import numpy\n",
    "import os\n",
    "from tensorflow.keras.models import load_model\n",
    "import matplotlib.pyplot as plt\n",
    "import seaborn as sns\n",
    "from tensorflow.keras import backend as K\n",
    "from tensorflow.keras.models import Model\n",
    "from sklearn.model_selection import train_test_split\n",
    "from tensorflow.keras.callbacks import EarlyStopping,ModelCheckpoint\n",
    "from tensorflow.keras.layers import Input, Dense, Dropout\n",
    "from sklearn.metrics import classification_report, confusion_matrix, accuracy_score\n",
    "from sklearn import metrics\n",
    "import tensorflow as tf\n",
    "import tensorflow.keras\n",
    "from sklearn.preprocessing import LabelBinarizer\n",
    "\n",
    "\n",
    "histories = []\n",
    "preds = []\n",
    "\n",
    "checkpoint_filepath = './tmp/checkpoint-4'\n",
    "model_checkpoint_callback = ModelCheckpoint(\n",
    "      filepath=checkpoint_filepath,\n",
    "      monitor='val_loss', #val_binary_accuracy\n",
    "      verbose=1,\n",
    "      save_best_only=True)\n",
    "\n",
    "for batch in [16, 32, 64, 128]:  \n",
    "  \n",
    "    inputs =Input(shape=(len(X_train_embeddings[0]),))\n",
    "    model = Dense(64, activation='relu')(inputs)\n",
    "    model = Dropout(0.2)(model)\n",
    "    model = Dense(32, activation='tanh')(model)\n",
    "    model = Dropout(0.2)(model)\n",
    "    output = Dense(1, activation='sigmoid')(model)\n",
    "    model = Model(inputs, output)\n",
    "\n",
    "    opt = tensorflow.keras.optimizers.Adam(learning_rate=5e-4)\n",
    "\n",
    "    model.compile(\n",
    "    loss = [binary_focal_loss()],\n",
    "    optimizer = opt,\n",
    "    metrics = ['binary_accuracy']\n",
    "    )\n",
    "    history = model.fit(X_train_embeddings, y_train, epochs = 100 , batch_size=batch,validation_data=(X_test_embeddings, y_test),callbacks=[model_checkpoint_callback], shuffle = True)\n",
    "    histories.append(history)"
   ]
  },
  {
   "cell_type": "code",
   "execution_count": 41,
   "id": "ba8ee56b",
   "metadata": {},
   "outputs": [
    {
     "name": "stdout",
     "output_type": "stream",
     "text": [
      "huggingface/tokenizers: The current process just got forked, after parallelism has already been used. Disabling parallelism to avoid deadlocks...\n",
      "To disable this warning, you can either:\n",
      "\t- Avoid using `tokenizers` before the fork if possible\n",
      "\t- Explicitly set the environment variable TOKENIZERS_PARALLELISM=(true | false)\n",
      "Collecting tensorflow\n",
      "  Downloading tensorflow-2.12.0-cp39-cp39-manylinux_2_17_x86_64.manylinux2014_x86_64.whl (585.9 MB)\n",
      "\u001b[2K     \u001b[90m━━━━━━━━━━━━━━━━━━━━━━━━━━━━━━━━━━━━━━━\u001b[0m \u001b[32m585.9/585.9 MB\u001b[0m \u001b[31m3.2 MB/s\u001b[0m eta \u001b[36m0:00:00\u001b[0m00:01\u001b[0m00:02\u001b[0m\n",
      "\u001b[?25hRequirement already satisfied: flatbuffers>=2.0 in /home/parastoo/miniconda3/envs/myenv/lib/python3.9/site-packages (from tensorflow) (23.3.3)\n",
      "Requirement already satisfied: absl-py>=1.0.0 in /home/parastoo/miniconda3/envs/myenv/lib/python3.9/site-packages (from tensorflow) (1.4.0)\n",
      "Collecting tensorflow-estimator<2.13,>=2.12.0\n",
      "  Downloading tensorflow_estimator-2.12.0-py2.py3-none-any.whl (440 kB)\n",
      "\u001b[2K     \u001b[90m━━━━━━━━━━━━━━━━━━━━━━━━━━━━━━━━━━━━━━━\u001b[0m \u001b[32m440.7/440.7 kB\u001b[0m \u001b[31m9.9 MB/s\u001b[0m eta \u001b[36m0:00:00\u001b[0m00:01\u001b[0m\n",
      "\u001b[?25hCollecting tensorboard<2.13,>=2.12\n",
      "  Downloading tensorboard-2.12.1-py3-none-any.whl (5.6 MB)\n",
      "\u001b[2K     \u001b[90m━━━━━━━━━━━━━━━━━━━━━━━━━━━━━━━━━━━━━━━━\u001b[0m \u001b[32m5.6/5.6 MB\u001b[0m \u001b[31m11.0 MB/s\u001b[0m eta \u001b[36m0:00:00\u001b[0m00:01\u001b[0m00:01\u001b[0m\n",
      "\u001b[?25hRequirement already satisfied: grpcio<2.0,>=1.24.3 in /home/parastoo/miniconda3/envs/myenv/lib/python3.9/site-packages (from tensorflow) (1.42.0)\n",
      "Requirement already satisfied: typing-extensions>=3.6.6 in /home/parastoo/miniconda3/envs/myenv/lib/python3.9/site-packages (from tensorflow) (4.4.0)\n",
      "Requirement already satisfied: h5py>=2.9.0 in /home/parastoo/miniconda3/envs/myenv/lib/python3.9/site-packages (from tensorflow) (3.1.0)\n",
      "Requirement already satisfied: opt-einsum>=2.3.2 in /home/parastoo/miniconda3/envs/myenv/lib/python3.9/site-packages (from tensorflow) (3.3.0)\n",
      "Requirement already satisfied: astunparse>=1.6.0 in /home/parastoo/miniconda3/envs/myenv/lib/python3.9/site-packages (from tensorflow) (1.6.3)\n",
      "Requirement already satisfied: google-pasta>=0.1.1 in /home/parastoo/miniconda3/envs/myenv/lib/python3.9/site-packages (from tensorflow) (0.2.0)\n",
      "Requirement already satisfied: gast<=0.4.0,>=0.2.1 in /home/parastoo/miniconda3/envs/myenv/lib/python3.9/site-packages (from tensorflow) (0.4.0)\n",
      "Requirement already satisfied: wrapt<1.15,>=1.11.0 in /home/parastoo/miniconda3/envs/myenv/lib/python3.9/site-packages (from tensorflow) (1.12.1)\n",
      "Collecting keras<2.13,>=2.12.0\n",
      "  Downloading keras-2.12.0-py2.py3-none-any.whl (1.7 MB)\n",
      "\u001b[2K     \u001b[90m━━━━━━━━━━━━━━━━━━━━━━━━━━━━━━━━━━━━━━━━\u001b[0m \u001b[32m1.7/1.7 MB\u001b[0m \u001b[31m10.8 MB/s\u001b[0m eta \u001b[36m0:00:00\u001b[0ma \u001b[36m0:00:01\u001b[0m\n",
      "\u001b[?25hRequirement already satisfied: setuptools in /home/parastoo/miniconda3/envs/myenv/lib/python3.9/site-packages (from tensorflow) (65.6.3)\n",
      "Requirement already satisfied: tensorflow-io-gcs-filesystem>=0.23.1 in /home/parastoo/miniconda3/envs/myenv/lib/python3.9/site-packages (from tensorflow) (0.23.1)\n",
      "Collecting numpy<1.24,>=1.22\n",
      "  Downloading numpy-1.23.5-cp39-cp39-manylinux_2_17_x86_64.manylinux2014_x86_64.whl (17.1 MB)\n",
      "\u001b[2K     \u001b[90m━━━━━━━━━━━━━━━━━━━━━━━━━━━━━━━━━━━━━━━━\u001b[0m \u001b[32m17.1/17.1 MB\u001b[0m \u001b[31m10.7 MB/s\u001b[0m eta \u001b[36m0:00:00\u001b[0m00:01\u001b[0m00:01\u001b[0m\n",
      "\u001b[?25hRequirement already satisfied: six>=1.12.0 in /home/parastoo/miniconda3/envs/myenv/lib/python3.9/site-packages (from tensorflow) (1.15.0)\n",
      "Requirement already satisfied: packaging in /home/parastoo/miniconda3/envs/myenv/lib/python3.9/site-packages (from tensorflow) (23.0)\n",
      "Collecting protobuf!=4.21.0,!=4.21.1,!=4.21.2,!=4.21.3,!=4.21.4,!=4.21.5,<5.0.0dev,>=3.20.3\n",
      "  Downloading protobuf-4.22.1-cp37-abi3-manylinux2014_x86_64.whl (302 kB)\n",
      "\u001b[2K     \u001b[90m━━━━━━━━━━━━━━━━━━━━━━━━━━━━━━━━━━━━━━\u001b[0m \u001b[32m302.4/302.4 kB\u001b[0m \u001b[31m10.2 MB/s\u001b[0m eta \u001b[36m0:00:00\u001b[0m\n",
      "\u001b[?25hCollecting jax>=0.3.15\n",
      "  Downloading jax-0.4.8.tar.gz (1.2 MB)\n",
      "\u001b[2K     \u001b[90m━━━━━━━━━━━━━━━━━━━━━━━━━━━━━━━━━━━━━━━━\u001b[0m \u001b[32m1.2/1.2 MB\u001b[0m \u001b[31m10.6 MB/s\u001b[0m eta \u001b[36m0:00:00\u001b[0m00:01\u001b[0m00:01\u001b[0m\n",
      "\u001b[?25h  Installing build dependencies ... \u001b[?25ldone\n",
      "\u001b[?25h  Getting requirements to build wheel ... \u001b[?25ldone\n",
      "\u001b[?25h  Preparing metadata (pyproject.toml) ... \u001b[?25ldone\n",
      "\u001b[?25hRequirement already satisfied: libclang>=13.0.0 in /home/parastoo/miniconda3/envs/myenv/lib/python3.9/site-packages (from tensorflow) (14.0.1)\n",
      "Requirement already satisfied: termcolor>=1.1.0 in /home/parastoo/miniconda3/envs/myenv/lib/python3.9/site-packages (from tensorflow) (1.1.0)\n",
      "Requirement already satisfied: wheel<1.0,>=0.23.0 in /home/parastoo/miniconda3/envs/myenv/lib/python3.9/site-packages (from astunparse>=1.6.0->tensorflow) (0.38.4)\n",
      "Requirement already satisfied: scipy>=1.7 in /home/parastoo/miniconda3/envs/myenv/lib/python3.9/site-packages (from jax>=0.3.15->tensorflow) (1.7.3)\n",
      "Collecting ml-dtypes>=0.0.3\n",
      "  Downloading ml_dtypes-0.0.4-cp39-cp39-manylinux_2_17_x86_64.manylinux2014_x86_64.whl (154 kB)\n",
      "\u001b[2K     \u001b[90m━━━━━━━━━━━━━━━━━━━━━━━━━━━━━━━━━━━━━━━\u001b[0m \u001b[32m154.9/154.9 kB\u001b[0m \u001b[31m9.9 MB/s\u001b[0m eta \u001b[36m0:00:00\u001b[0m\n",
      "\u001b[?25hRequirement already satisfied: requests<3,>=2.21.0 in /home/parastoo/miniconda3/envs/myenv/lib/python3.9/site-packages (from tensorboard<2.13,>=2.12->tensorflow) (2.28.1)\n",
      "Collecting tensorboard-data-server<0.8.0,>=0.7.0\n",
      "  Downloading tensorboard_data_server-0.7.0-py3-none-manylinux2014_x86_64.whl (6.6 MB)\n",
      "\u001b[2K     \u001b[90m━━━━━━━━━━━━━━━━━━━━━━━━━━━━━━━━━━━━━━━━\u001b[0m \u001b[32m6.6/6.6 MB\u001b[0m \u001b[31m11.2 MB/s\u001b[0m eta \u001b[36m0:00:00\u001b[0m00:01\u001b[0m00:01\u001b[0m\n",
      "\u001b[?25hRequirement already satisfied: google-auth<3,>=1.6.3 in /home/parastoo/miniconda3/envs/myenv/lib/python3.9/site-packages (from tensorboard<2.13,>=2.12->tensorflow) (1.35.0)\n",
      "Collecting grpcio<2.0,>=1.24.3\n",
      "  Downloading grpcio-1.53.0-cp39-cp39-manylinux_2_17_x86_64.manylinux2014_x86_64.whl (5.0 MB)\n",
      "\u001b[2K     \u001b[90m━━━━━━━━━━━━━━━━━━━━━━━━━━━━━━━━━━━━━━━━\u001b[0m \u001b[32m5.0/5.0 MB\u001b[0m \u001b[31m11.2 MB/s\u001b[0m eta \u001b[36m0:00:00\u001b[0m00:01\u001b[0m00:01\u001b[0m\n",
      "\u001b[?25hRequirement already satisfied: werkzeug>=1.0.1 in /home/parastoo/miniconda3/envs/myenv/lib/python3.9/site-packages (from tensorboard<2.13,>=2.12->tensorflow) (2.2.3)\n",
      "Requirement already satisfied: tensorboard-plugin-wit>=1.6.0 in /home/parastoo/miniconda3/envs/myenv/lib/python3.9/site-packages (from tensorboard<2.13,>=2.12->tensorflow) (1.8.1)\n",
      "Requirement already satisfied: markdown>=2.6.8 in /home/parastoo/miniconda3/envs/myenv/lib/python3.9/site-packages (from tensorboard<2.13,>=2.12->tensorflow) (3.4.1)\n",
      "Collecting google-auth-oauthlib<1.1,>=0.5\n",
      "  Downloading google_auth_oauthlib-1.0.0-py2.py3-none-any.whl (18 kB)\n",
      "Requirement already satisfied: rsa<5,>=3.1.4 in /home/parastoo/miniconda3/envs/myenv/lib/python3.9/site-packages (from google-auth<3,>=1.6.3->tensorboard<2.13,>=2.12->tensorflow) (4.7.2)\n",
      "Requirement already satisfied: pyasn1-modules>=0.2.1 in /home/parastoo/miniconda3/envs/myenv/lib/python3.9/site-packages (from google-auth<3,>=1.6.3->tensorboard<2.13,>=2.12->tensorflow) (0.2.8)\n",
      "Requirement already satisfied: cachetools<5.0,>=2.0.0 in /home/parastoo/miniconda3/envs/myenv/lib/python3.9/site-packages (from google-auth<3,>=1.6.3->tensorboard<2.13,>=2.12->tensorflow) (4.2.2)\n",
      "Collecting google-auth<3,>=1.6.3\n",
      "  Downloading google_auth-2.17.2-py2.py3-none-any.whl (178 kB)\n",
      "\u001b[2K     \u001b[90m━━━━━━━━━━━━━━━━━━━━━━━━━━━━━━━━━━━━━━\u001b[0m \u001b[32m178.2/178.2 kB\u001b[0m \u001b[31m11.2 MB/s\u001b[0m eta \u001b[36m0:00:00\u001b[0m\n",
      "\u001b[?25hRequirement already satisfied: requests-oauthlib>=0.7.0 in /home/parastoo/miniconda3/envs/myenv/lib/python3.9/site-packages (from google-auth-oauthlib<1.1,>=0.5->tensorboard<2.13,>=2.12->tensorflow) (1.3.0)\n",
      "Requirement already satisfied: importlib-metadata>=4.4 in /home/parastoo/miniconda3/envs/myenv/lib/python3.9/site-packages (from markdown>=2.6.8->tensorboard<2.13,>=2.12->tensorflow) (6.1.0)\n",
      "Requirement already satisfied: certifi>=2017.4.17 in /home/parastoo/miniconda3/envs/myenv/lib/python3.9/site-packages (from requests<3,>=2.21.0->tensorboard<2.13,>=2.12->tensorflow) (2022.12.7)\n",
      "Requirement already satisfied: charset-normalizer<3,>=2 in /home/parastoo/miniconda3/envs/myenv/lib/python3.9/site-packages (from requests<3,>=2.21.0->tensorboard<2.13,>=2.12->tensorflow) (2.0.4)\n",
      "Requirement already satisfied: urllib3<1.27,>=1.21.1 in /home/parastoo/miniconda3/envs/myenv/lib/python3.9/site-packages (from requests<3,>=2.21.0->tensorboard<2.13,>=2.12->tensorflow) (1.26.15)\n",
      "Requirement already satisfied: idna<4,>=2.5 in /home/parastoo/miniconda3/envs/myenv/lib/python3.9/site-packages (from requests<3,>=2.21.0->tensorboard<2.13,>=2.12->tensorflow) (3.4)\n"
     ]
    },
    {
     "name": "stdout",
     "output_type": "stream",
     "text": [
      "Collecting numpy<1.24,>=1.22\n",
      "  Downloading numpy-1.22.4-cp39-cp39-manylinux_2_17_x86_64.manylinux2014_x86_64.whl (16.8 MB)\n",
      "\u001b[2K     \u001b[90m━━━━━━━━━━━━━━━━━━━━━━━━━━━━━━━━━━━━━━━━\u001b[0m \u001b[32m16.8/16.8 MB\u001b[0m \u001b[31m10.7 MB/s\u001b[0m eta \u001b[36m0:00:00\u001b[0m00:01\u001b[0m00:01\u001b[0m\n",
      "\u001b[?25hRequirement already satisfied: MarkupSafe>=2.1.1 in /home/parastoo/miniconda3/envs/myenv/lib/python3.9/site-packages (from werkzeug>=1.0.1->tensorboard<2.13,>=2.12->tensorflow) (2.1.1)\n",
      "Requirement already satisfied: zipp>=0.5 in /home/parastoo/miniconda3/envs/myenv/lib/python3.9/site-packages (from importlib-metadata>=4.4->markdown>=2.6.8->tensorboard<2.13,>=2.12->tensorflow) (3.11.0)\n",
      "Requirement already satisfied: pyasn1<0.5.0,>=0.4.6 in /home/parastoo/miniconda3/envs/myenv/lib/python3.9/site-packages (from pyasn1-modules>=0.2.1->google-auth<3,>=1.6.3->tensorboard<2.13,>=2.12->tensorflow) (0.4.8)\n",
      "Requirement already satisfied: oauthlib>=3.0.0 in /home/parastoo/miniconda3/envs/myenv/lib/python3.9/site-packages (from requests-oauthlib>=0.7.0->google-auth-oauthlib<1.1,>=0.5->tensorboard<2.13,>=2.12->tensorflow) (3.2.2)\n",
      "Building wheels for collected packages: jax\n",
      "  Building wheel for jax (pyproject.toml) ... \u001b[?25ldone\n",
      "\u001b[?25h  Created wheel for jax: filename=jax-0.4.8-py3-none-any.whl size=1439678 sha256=2ee315be2c4489ebc54f073825a110219c559eea3ef7fba5cc21c88ddc7887de\n",
      "  Stored in directory: /home/parastoo/.cache/pip/wheels/05/94/dc/81042da9bced43ff430bc02043d213d9e4b210b584c39e31c1\n",
      "Successfully built jax\n",
      "Installing collected packages: tensorflow-estimator, tensorboard-data-server, protobuf, numpy, keras, grpcio, ml-dtypes, google-auth, jax, google-auth-oauthlib, tensorboard, tensorflow\n",
      "  Attempting uninstall: tensorflow-estimator\n",
      "    Found existing installation: tensorflow-estimator 2.10.0\n",
      "    Uninstalling tensorflow-estimator-2.10.0:\n",
      "      Successfully uninstalled tensorflow-estimator-2.10.0\n",
      "  Attempting uninstall: tensorboard-data-server\n",
      "    Found existing installation: tensorboard-data-server 0.6.1\n",
      "    Uninstalling tensorboard-data-server-0.6.1:\n",
      "      Successfully uninstalled tensorboard-data-server-0.6.1\n",
      "  Attempting uninstall: protobuf\n",
      "    Found existing installation: protobuf 3.19.6\n",
      "    Uninstalling protobuf-3.19.6:\n",
      "      Successfully uninstalled protobuf-3.19.6\n",
      "  Attempting uninstall: numpy\n",
      "    Found existing installation: numpy 1.24.2\n",
      "    Uninstalling numpy-1.24.2:\n",
      "      Successfully uninstalled numpy-1.24.2\n",
      "  Attempting uninstall: keras\n",
      "    Found existing installation: keras 2.10.0\n",
      "    Uninstalling keras-2.10.0:\n",
      "      Successfully uninstalled keras-2.10.0\n",
      "  Attempting uninstall: grpcio\n",
      "    Found existing installation: grpcio 1.42.0\n",
      "    Uninstalling grpcio-1.42.0:\n",
      "      Successfully uninstalled grpcio-1.42.0\n",
      "  Attempting uninstall: google-auth\n",
      "    Found existing installation: google-auth 1.35.0\n",
      "    Uninstalling google-auth-1.35.0:\n",
      "      Successfully uninstalled google-auth-1.35.0\n",
      "  Attempting uninstall: google-auth-oauthlib\n",
      "    Found existing installation: google-auth-oauthlib 0.4.4\n",
      "    Uninstalling google-auth-oauthlib-0.4.4:\n",
      "      Successfully uninstalled google-auth-oauthlib-0.4.4\n",
      "  Attempting uninstall: tensorboard\n",
      "    Found existing installation: tensorboard 2.10.1\n",
      "    Uninstalling tensorboard-2.10.1:\n",
      "      Successfully uninstalled tensorboard-2.10.1\n",
      "\u001b[31mERROR: pip's dependency resolver does not currently take into account all the packages that are installed. This behaviour is the source of the following dependency conflicts.\n",
      "transformers 4.23.1 requires tokenizers!=0.11.3,<0.14,>=0.11.1, but you have tokenizers 0.9.4 which is incompatible.\n",
      "tensorflow-text 2.6.0 requires tensorflow<2.7,>=2.6.0, but you have tensorflow 2.12.0 which is incompatible.\n",
      "tensorflow-gpu 2.10.0 requires keras<2.11,>=2.10.0, but you have keras 2.12.0 which is incompatible.\n",
      "tensorflow-gpu 2.10.0 requires protobuf<3.20,>=3.9.2, but you have protobuf 4.22.1 which is incompatible.\n",
      "tensorflow-gpu 2.10.0 requires tensorboard<2.11,>=2.10, but you have tensorboard 2.12.1 which is incompatible.\n",
      "tensorflow-gpu 2.10.0 requires tensorflow-estimator<2.11,>=2.10.0, but you have tensorflow-estimator 2.12.0 which is incompatible.\n",
      "scikit-survival 0.18.0 requires scikit-learn<1.2,>=1.1.0, but you have scikit-learn 1.0.2 which is incompatible.\n",
      "numba 0.54.1 requires numpy<1.21,>=1.17, but you have numpy 1.22.4 which is incompatible.\u001b[0m\u001b[31m\n",
      "\u001b[0mSuccessfully installed google-auth-2.17.2 google-auth-oauthlib-1.0.0 grpcio-1.53.0 jax-0.4.8 keras-2.12.0 ml-dtypes-0.0.4 numpy-1.22.4 protobuf-4.22.1 tensorboard-2.12.1 tensorboard-data-server-0.7.0 tensorflow-2.12.0 tensorflow-estimator-2.12.0\n"
     ]
    }
   ],
   "source": [
    "!pip install tensorflow"
   ]
  },
  {
   "cell_type": "code",
   "execution_count": 209,
   "id": "40804cee",
   "metadata": {},
   "outputs": [],
   "source": [
    "# in code 300 ta model deep learning ro train mikone ba batch size hA va epoc haye mokhtalf va to motuni in model ro azin be bad estefade koni "
   ]
  },
  {
   "cell_type": "code",
   "execution_count": 210,
   "id": "060c5ab4",
   "metadata": {},
   "outputs": [],
   "source": [
    "import keras\n",
    "model = keras.models.load_model('./tmp/checkpoint-4/', custom_objects={'binary_focal_loss_fixed': binary_focal_loss()})"
   ]
  },
  {
   "cell_type": "code",
   "execution_count": 211,
   "id": "7c95e62b",
   "metadata": {},
   "outputs": [
    {
     "name": "stdout",
     "output_type": "stream",
     "text": [
      "WARNING:tensorflow:5 out of the last 9 calls to <function Model.make_predict_function.<locals>.predict_function at 0x7fe7d632b280> triggered tf.function retracing. Tracing is expensive and the excessive number of tracings could be due to (1) creating @tf.function repeatedly in a loop, (2) passing tensors with different shapes, (3) passing Python objects instead of tensors. For (1), please define your @tf.function outside of the loop. For (2), @tf.function has experimental_relax_shapes=True option that relaxes argument shapes that can avoid unnecessary retracing. For (3), please refer to https://www.tensorflow.org/guide/function#controlling_retracing and https://www.tensorflow.org/api_docs/python/tf/function for  more details.\n"
     ]
    }
   ],
   "source": [
    "pred = model.predict(X_test_embeddings)"
   ]
  },
  {
   "cell_type": "code",
   "execution_count": 212,
   "id": "62d50a68",
   "metadata": {},
   "outputs": [],
   "source": [
    "thresh=0.5"
   ]
  },
  {
   "cell_type": "code",
   "execution_count": 213,
   "id": "458307ff",
   "metadata": {},
   "outputs": [
    {
     "data": {
      "text/plain": [
       "<AxesSubplot:ylabel='Count'>"
      ]
     },
     "execution_count": 213,
     "metadata": {},
     "output_type": "execute_result"
    },
    {
     "data": {
      "image/png": "[encoded data removed]",
      "text/plain": [
       "<Figure size 432x288 with 1 Axes>"
      ]
     },
     "metadata": {
      "needs_background": "light"
     },
     "output_type": "display_data"
    }
   ],
   "source": [
    "import seaborn as sns\n",
    "sns.histplot(pred)"
   ]
  },
  {
   "cell_type": "code",
   "execution_count": 214,
   "id": "519023ce",
   "metadata": {},
   "outputs": [],
   "source": [
    "pred_sigm= [1 if pred_ > thresh else 0 for pred_ in pred]"
   ]
  },
  {
   "cell_type": "code",
   "execution_count": 172,
   "id": "80e31627",
   "metadata": {},
   "outputs": [
    {
     "name": "stdout",
     "output_type": "stream",
     "text": [
      "              precision    recall  f1-score   support\n",
      "\n",
      "         0.0       0.94      0.97      0.96        33\n",
      "         1.0       0.88      0.78      0.82         9\n",
      "\n",
      "    accuracy                           0.93        42\n",
      "   macro avg       0.91      0.87      0.89        42\n",
      "weighted avg       0.93      0.93      0.93        42\n",
      "\n"
     ]
    }
   ],
   "source": [
    "print(classification_report(y_test,pred_sigm))"
   ]
  },
  {
   "cell_type": "code",
   "execution_count": 156,
   "id": "4786e3af",
   "metadata": {},
   "outputs": [
    {
     "data": {
      "text/plain": [
       "array([[33,  0],\n",
       "       [ 5,  4]])"
      ]
     },
     "execution_count": 156,
     "metadata": {},
     "output_type": "execute_result"
    }
   ],
   "source": [
    "confusion_matrix(y_test,pred_sigm)"
   ]
  },
  {
   "cell_type": "code",
   "execution_count": 157,
   "id": "d5cf3b3b",
   "metadata": {},
   "outputs": [
    {
     "data": {
      "image/png": "[encoded data removed]",
      "text/plain": [
       "<Figure size 432x288 with 2 Axes>"
      ]
     },
     "metadata": {},
     "output_type": "display_data"
    },
    {
     "data": {
      "image/png": "[encoded data removed]",
      "text/plain": [
       "<Figure size 432x288 with 2 Axes>"
      ]
     },
     "metadata": {
      "needs_background": "light"
     },
     "output_type": "display_data"
    }
   ],
   "source": [
    "fig, ax = plt.subplots()\n",
    "#sns.heatmap(confusion_matrix(pred_soft[:,1], y_test_label[:,1]), annot= True)\n",
    "sns.heatmap(confusion_matrix(y_test,pred_sigm),cmap=\"Blues\", annot= True)\n",
    "plt.ylabel('Actual Label')\n",
    "plt.xlabel('Predicted Label')\n",
    "display(fig)"
   ]
  },
  {
   "cell_type": "code",
   "execution_count": 158,
   "id": "1ec0f073",
   "metadata": {},
   "outputs": [
    {
     "data": {
      "image/png": "[encoded data removed]",
      "text/plain": [
       "<Figure size 432x288 with 1 Axes>"
      ]
     },
     "metadata": {
      "needs_background": "light"
     },
     "output_type": "display_data"
    },
    {
     "data": {
      "text/plain": [
       "None"
      ]
     },
     "metadata": {},
     "output_type": "display_data"
    },
    {
     "data": {
      "image/png": "[encoded data removed]",
      "text/plain": [
       "<Figure size 432x288 with 1 Axes>"
      ]
     },
     "metadata": {
      "needs_background": "light"
     },
     "output_type": "display_data"
    },
    {
     "data": {
      "text/plain": [
       "None"
      ]
     },
     "metadata": {},
     "output_type": "display_data"
    }
   ],
   "source": [
    "plt.plot(histories[0].history['binary_accuracy'])\n",
    "plt.plot(histories[0].history['val_binary_accuracy'])\n",
    "plt.title('model accuracy')\n",
    "plt.ylabel('accuracy')\n",
    "plt.xlabel('epoch')\n",
    "plt.legend(['train', 'val'], loc='upper left')\n",
    "display(plt.show())\n",
    "# summarize history for loss\n",
    "plt.plot(histories[0].history['loss'])\n",
    "plt.plot(histories[0].history['val_loss'])\n",
    "plt.title('model loss')            \n",
    "\n",
    "\n",
    "\n",
    "plt.ylabel('loss')\n",
    "plt.xlabel('epoch')\n",
    "plt.legend(['train', 'val'], loc='upper left')\n",
    "display(plt.show())"
   ]
  }
 ],
 "metadata": {
  "kernelspec": {
   "display_name": "Python 3 (ipykernel)",
   "language": "python",
   "name": "python3"
  },
  "language_info": {
   "codemirror_mode": {
    "name": "ipython",
    "version": 3
   },
   "file_extension": ".py",
   "mimetype": "text/x-python",
   "name": "python",
   "nbconvert_exporter": "python",
   "pygments_lexer": "ipython3",
   "version": "3.9.7"
  }
 },
 "nbformat": 4,
 "nbformat_minor": 5
}
